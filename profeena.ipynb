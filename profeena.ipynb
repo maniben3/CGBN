{
  "nbformat": 4,
  "nbformat_minor": 0,
  "metadata": {
    "colab": {
      "provenance": [],
      "authorship_tag": "ABX9TyPuiGXyIOhNbnYVHjIgR3kk",
      "include_colab_link": true
    },
    "kernelspec": {
      "name": "python3",
      "display_name": "Python 3"
    },
    "language_info": {
      "name": "python"
    }
  },
  "cells": [
    {
      "cell_type": "markdown",
      "metadata": {
        "id": "view-in-github",
        "colab_type": "text"
      },
      "source": [
        "<a href=\"https://colab.research.google.com/github/maniben3/CGBN/blob/master/profeena.ipynb\" target=\"_parent\"><img src=\"https://colab.research.google.com/assets/colab-badge.svg\" alt=\"Open In Colab\"/></a>"
      ]
    },
    {
      "cell_type": "code",
      "execution_count": 11,
      "metadata": {
        "colab": {
          "base_uri": "https://localhost:8080/"
        },
        "id": "aF4OulzZaPdt",
        "outputId": "0b0ee2fa-4113-4250-efa0-f0f44015c147"
      },
      "outputs": [
        {
          "output_type": "stream",
          "name": "stdout",
          "text": [
            "78.5\n",
            "31.400000000000002\n"
          ]
        }
      ],
      "source": [
        "\n",
        "class Circle:\n",
        "    pi = 3.14\n",
        "\n",
        "    def __init__(self, radius):\n",
        "        self.radius = radius\n",
        "        \n",
        "    def area(self):\n",
        "        return self.pi * (self.radius ** 2)\n",
        "    \n",
        "    def circumference(self):\n",
        "        return 2 * self.pi * self.radius\n",
        "    \n",
        "c = Circle(5)\n",
        "print(c.area())\n",
        "print(c.circumference())\n"
      ]
    },
    {
      "cell_type": "markdown",
      "source": [
        "abstraction"
      ],
      "metadata": {
        "id": "gIDvA6uUc44W"
      }
    },
    {
      "cell_type": "code",
      "source": [
        "\n",
        "import math\n",
        "\n",
        "class Circle:\n",
        "    def __init__(self, radius):\n",
        "        self._radius = radius\n",
        "        \n",
        "    def area(self):\n",
        "        return math.pi * (self._radius ** 2)\n",
        "    \n",
        "    def circumference(self):\n",
        "        return 2 * math.pi * self._radius\n",
        "    \n",
        "    def diameter(self):\n",
        "        return 2 * self._radius\n",
        "    \n",
        "    def get_radius(self):\n",
        "        return self._radius\n",
        "    \n",
        "    def set_radius(self, radius):\n",
        "        self._radius = radius\n",
        "        \n",
        "circle = Circle(5)\n",
        "print(\"Area:\", circle.area())\n",
        "print(\"Circumference:\", circle.circumference())\n",
        "print(\"Diameter:\", circle.diameter())\n",
        "print(\"Radius:\", circle.get_radius())\n",
        "circle.set_radius(10)\n",
        "print(\"New Radius:\", circle.get_radius())\n"
      ],
      "metadata": {
        "colab": {
          "base_uri": "https://localhost:8080/"
        },
        "id": "UE78gmMQcoS0",
        "outputId": "bf24b467-4f30-4f55-c114-b8582d9a5d53"
      },
      "execution_count": 12,
      "outputs": [
        {
          "output_type": "stream",
          "name": "stdout",
          "text": [
            "Area: 78.53981633974483\n",
            "Circumference: 31.41592653589793\n",
            "Diameter: 10\n",
            "Radius: 5\n",
            "New Radius: 10\n"
          ]
        }
      ]
    },
    {
      "cell_type": "code",
      "source": [
        "\n",
        "import math\n",
        "\n",
        "class Circle:\n",
        "    def __init__(self, radius):\n",
        "        self.radius = radius\n",
        "        \n",
        "    def area(self):\n",
        "        return math.pi * (self.radius ** 2)\n",
        "    \n",
        "    def circumference(self):\n",
        "        return 2 * math.pi * self.radius\n",
        "    \n",
        "    def diameter(self):\n",
        "        return 2 * self.radius\n",
        "    \n",
        "    def get_radius(self):\n",
        "        return self.radius\n",
        "    \n",
        "    def set_radius(self, radius):\n",
        "        self._radius = radius\n",
        "        \n",
        "circle = Circle(5)\n",
        "print(\"Area:\", circle.area())\n",
        "print(\"Circumference:\", circle.circumference())\n",
        "print(\"Diameter:\", circle.diameter())\n",
        "print(\"Radius:\", circle.get_radius())\n",
        "circle.set_radius(10)\n",
        "print(\"New Radius:\", circle.get_radius())\n"
      ],
      "metadata": {
        "colab": {
          "base_uri": "https://localhost:8080/"
        },
        "id": "1DFB3x0rc_Un",
        "outputId": "e2851082-9bd1-4f54-f120-29d9f09a9a48"
      },
      "execution_count": 13,
      "outputs": [
        {
          "output_type": "stream",
          "name": "stdout",
          "text": [
            "Area: 78.53981633974483\n",
            "Circumference: 31.41592653589793\n",
            "Diameter: 10\n",
            "Radius: 5\n",
            "New Radius: 5\n"
          ]
        }
      ]
    },
    {
      "cell_type": "code",
      "source": [
        " # 2. 3 input from user\n",
        "num1=int(input(\"num1 = \"))\n",
        "num2=int(input(\"num2 = \"))\n",
        "num3=int(input(\"num3 = \"))\n",
        "add=num1+num2\n",
        "sub=num3-num2\n",
        "if add>sub:\n",
        "  print(\"Add is greater\")\n",
        "else:\n",
        "  print(\"sub is greater\")"
      ],
      "metadata": {
        "colab": {
          "base_uri": "https://localhost:8080/"
        },
        "id": "6zPVVpm9e1CB",
        "outputId": "5d07202d-5396-47c7-e51b-3b8de6248c75"
      },
      "execution_count": 14,
      "outputs": [
        {
          "output_type": "stream",
          "name": "stdout",
          "text": [
            "num1 = 444\n",
            "num2 = 66\n",
            "num3 = 88\n",
            "Add is greater\n"
          ]
        }
      ]
    },
    {
      "cell_type": "code",
      "source": [
        "#7.salesprice of item\n",
        "cost = int(input(\"Enter Cost =\"))\n",
        "discount = int(input(\"Enter Discount Percentage =\"))\n",
        "print(\"salesprice = \",cost-(cost*(discount/100)))"
      ],
      "metadata": {
        "id": "Wd_ygoX1g640"
      },
      "execution_count": null,
      "outputs": []
    },
    {
      "cell_type": "code",
      "source": [
        "#10. sum iof all in list\n",
        "list=[13,5,7768,35445,364577,34567,646467,78,8,68,78,8,67,8,78,67,84]\n",
        "add=0\n",
        "for i in range(len(list)):\n",
        "  add+=list[i]\n",
        "print(add)"
      ],
      "metadata": {
        "id": "SXKe2_YCiaE4"
      },
      "execution_count": null,
      "outputs": []
    },
    {
      "cell_type": "code",
      "source": [
        "#11\n",
        "start = int(input(\"Enter Starting Value =\"))\n",
        "end = int(input(\"Enter Ending Value =\"))\n",
        "for i in range(start,end+1):\n",
        "  if (i%7==0) and ((i*5)<end+1):\n",
        "     print(i)"
      ],
      "metadata": {
        "id": "b85gQPIVi6R0"
      },
      "execution_count": null,
      "outputs": []
    },
    {
      "cell_type": "code",
      "source": [
        "#15 fibonacci\n",
        "\n",
        "def fibonacci(n):\n",
        "    if n <= 0:\n",
        "        return 0\n",
        "    elif n == 1:\n",
        "        return 1\n",
        "    else:\n",
        "        return fibonacci(n-1) + fibonacci(n-2)\n",
        "\n",
        "print(fibonacci(20))\n"
      ],
      "metadata": {
        "id": "_oyTX6PpkBTW"
      },
      "execution_count": null,
      "outputs": []
    },
    {
      "cell_type": "code",
      "source": [
        "#19. large and small in list \n",
        "\n",
        "numbers = [3, 41, 12, 9, 74, 15]\n",
        "\n",
        "largest = max(numbers)\n",
        "smallest = min(numbers)\n",
        "\n",
        "print(\"Largest number in the list:\", largest)\n",
        "print(\"Smallest number in the list:\", smallest)\n"
      ],
      "metadata": {
        "id": "aGW0Gz3hnEQg"
      },
      "execution_count": null,
      "outputs": []
    },
    {
      "cell_type": "code",
      "source": [
        "#20. concatenate\n",
        "words = ['Hello', 'world', '!',\"33\"]\n",
        "sentence = ' '.join(words)\n",
        "print(sentence)\n"
      ],
      "metadata": {
        "id": "i3qZ0-nhnqPt"
      },
      "execution_count": null,
      "outputs": []
    },
    {
      "cell_type": "code",
      "source": [
        "#22\n",
        "import platform\n",
        "\n",
        "print(\"Operating System Name:\", platform.system())\n",
        "print(\"Platform Name:\", platform.platform())\n",
        "print(\"Processor Type:\", platform.processor())\n"
      ],
      "metadata": {
        "id": "YjrNFKdWoStQ"
      },
      "execution_count": null,
      "outputs": []
    },
    {
      "cell_type": "code",
      "source": [
        "#23\n",
        "import os\n",
        "print(os.listdir())"
      ],
      "metadata": {
        "id": "6y7YuOyLjpAh"
      },
      "execution_count": null,
      "outputs": []
    },
    {
      "cell_type": "code",
      "source": [
        "#24\n",
        "a = 5\n",
        "b = 10\n",
        "\n",
        "temp = a\n",
        "a = b\n",
        "b = temp\n",
        "\n",
        "print(\"a =\", a)\n",
        "print(\"b =\", b)"
      ],
      "metadata": {
        "id": "49ixjnG4y5yZ"
      },
      "execution_count": null,
      "outputs": []
    },
    {
      "cell_type": "code",
      "source": [
        "#26\n",
        "import datetime\n",
        "\n",
        "current_time = datetime.datetime.now().time()\n",
        "print(\"Current time:\", current_time)\n"
      ],
      "metadata": {
        "id": "hukL7dc-zdCK"
      },
      "execution_count": null,
      "outputs": []
    },
    {
      "cell_type": "code",
      "source": [
        "#27\n",
        "import itertools\n",
        "\n",
        "vowels = \"aeiou\"\n",
        "perms = itertools.permutations(vowels)\n",
        "\n",
        "for perm in perms:\n",
        "    print(\"\".join(perm))\n"
      ],
      "metadata": {
        "id": "_s001PoLCBBa"
      },
      "execution_count": null,
      "outputs": []
    },
    {
      "cell_type": "code",
      "source": [
        "#28\n",
        "def median_of_three(num1, num2, num3):\n",
        "    nums = [num1, num2, num3]\n",
        "    nums.sort()\n",
        "    return nums[1]\n",
        "median = median_of_three(4, 7, 2)\n",
        "print(median) \n",
        "\n",
        "median = median_of_three(10, 3, 6)\n",
        "print(median)  "
      ],
      "metadata": {
        "id": "n0ELjT1_kzew"
      },
      "execution_count": null,
      "outputs": []
    },
    {
      "cell_type": "code",
      "source": [
        "#29\n",
        "def get_value(item):\n",
        "    return item[1]\n",
        "\n",
        "d = {'apple': 3, 'banana': 2, 'orange': 1, 'pear': 4}\n",
        "\n",
        "sorted_d = sorted(d.items(), key=get_value)\n",
        "\n",
        "print(sorted_d)\n"
      ],
      "metadata": {
        "id": "RXUaHTlGzg_A"
      },
      "execution_count": null,
      "outputs": []
    },
    {
      "cell_type": "code",
      "source": [
        "#38\n",
        "my_tuple = (1, 2, 3, 4, 5)\n",
        "my_tuple[1:3]"
      ],
      "metadata": {
        "id": "jQBcszZ2nlYL"
      },
      "execution_count": null,
      "outputs": []
    },
    {
      "cell_type": "code",
      "source": [
        "#39\n",
        "my_tuple = ((\"a\", 1), (\"b\", 2), (\"c\", 3))\n",
        "\n",
        "my_dict = dict(my_tuple)\n",
        "\n",
        "print(my_tuple)\n",
        "print( my_dict)"
      ],
      "metadata": {
        "id": "nlwtv7_En5ht"
      },
      "execution_count": null,
      "outputs": []
    },
    {
      "cell_type": "code",
      "source": [
        "#40\n"
      ],
      "metadata": {
        "id": "KCw5FHCmoHD2"
      },
      "execution_count": null,
      "outputs": []
    },
    {
      "cell_type": "code",
      "source": [
        "#41\n",
        "t1=(122,45,677,88)\n",
        "t2=(122,45,677,88)\n",
        "t3=(122,45,677,88)\n",
        "for i in range(len(t1)):\n",
        "    print(t1[i]+t2[i]+t3[i])"
      ],
      "metadata": {
        "id": "eh8Db74doCDT"
      },
      "execution_count": null,
      "outputs": []
    },
    {
      "cell_type": "code",
      "source": [
        "\n",
        "#42\n",
        "tt=[(122,45,677,88),(122,45,677,88),(122,45,677,88)]\n",
        "for i in range(len(tt)):\n",
        "    print(tt[i][0]+tt[i][1]+tt[i][2]+tt[i][3])"
      ],
      "metadata": {
        "id": "TlR327dpuTBV"
      },
      "execution_count": null,
      "outputs": []
    },
    {
      "cell_type": "code",
      "source": [
        "#43\n",
        "my_set = {1, 2, 3, 4, 5}\n",
        "print(my_set)"
      ],
      "metadata": {
        "id": "wknZzFS_vc36"
      },
      "execution_count": null,
      "outputs": []
    },
    {
      "cell_type": "code",
      "source": [
        "#44\n",
        "my_set = {1, 2, 3, 4, 5}\n",
        "my_set.remove(4)\n",
        "print(my_set)"
      ],
      "metadata": {
        "id": "tyEFR7Y1x2wF"
      },
      "execution_count": null,
      "outputs": []
    },
    {
      "cell_type": "code",
      "source": [
        "#47\n",
        "for i in range(7):\n",
        "  if i==3 or i==6:\n",
        "    continue\n",
        "  print(i)"
      ],
      "metadata": {
        "id": "Ps4G85QVyNo6"
      },
      "execution_count": null,
      "outputs": []
    },
    {
      "cell_type": "code",
      "source": [
        "#48\n",
        "password = input(\"Enter a password: \")\n",
        "\n",
        "if len(password) < 6 or len(password) > 16:\n",
        "    print(\"Password must be between 6 and 16 characters long.\")\n",
        "elif not any(char.islower() for char in password):\n",
        "    print(\"Password must contain at least one lowercase letter.\")\n",
        "elif not any(char.isupper() for char in password):\n",
        "    print(\"Password must contain at least one uppercase letter.\")\n",
        "elif not any(char.isdigit() for char in password):\n",
        "    print(\"Password must contain at least one number.\")\n",
        "else:\n",
        "    print(\"Valid password!\")\n"
      ],
      "metadata": {
        "id": "FhdX8XCEpE7e"
      },
      "execution_count": null,
      "outputs": []
    },
    {
      "cell_type": "code",
      "source": [
        "#49\n",
        "# Define a dictionary of month names and their corresponding number of days\n",
        "month_dict = {\n",
        "    \"January\": 31,\n",
        "    \"February\": 28,\n",
        "    \"March\": 31,\n",
        "    \"April\": 30,\n",
        "    \"May\": 31,\n",
        "    \"June\": 30,\n",
        "    \"July\": 31,\n",
        "    \"August\": 31,\n",
        "    \"September\": 30,\n",
        "    \"October\": 31,\n",
        "    \"November\": 30,\n",
        "    \"December\": 31\n",
        "}\n",
        "\n",
        "# Ask the user to enter a month name\n",
        "month_name = input(\"Enter a month name: \")\n",
        "\n",
        "# Look up the number of days for the given month name in the dictionary\n",
        "if month_name in month_dict:\n",
        "    num_days = month_dict[month_name]\n",
        "    print(month_name,\" has\", num_days, \"days.\")\n",
        "else:\n",
        "    print(\"Invalid month name.\")\n"
      ],
      "metadata": {
        "id": "DtkLxs_BqiD-"
      },
      "execution_count": null,
      "outputs": []
    },
    {
      "cell_type": "code",
      "source": [
        "#50\n",
        "sq=[]\n",
        "for i in range(31):\n",
        "   x=i*i\n",
        "   sq.append(x)\n",
        "print(sq)"
      ],
      "metadata": {
        "id": "9wT9pPqor5DH"
      },
      "execution_count": null,
      "outputs": []
    },
    {
      "cell_type": "code",
      "source": [
        "#51\n",
        "def func():\n",
        "  print(\"function in function \")\n",
        "def func1():\n",
        "   func()\n",
        "func1()\n"
      ],
      "metadata": {
        "id": "7i7Fgv5SqbJU"
      },
      "execution_count": null,
      "outputs": []
    },
    {
      "cell_type": "code",
      "source": [
        "def count_locals():\n",
        "    a = 1\n",
        "    b = 2\n",
        "    c = 3\n",
        "    local_vars = locals()\n",
        "    num_locals = len(local_vars)\n",
        "    print(num_locals,local_vars)\n",
        "    \n",
        "count_locals()\n"
      ],
      "metadata": {
        "id": "KjrbdhYqtQ9U"
      },
      "execution_count": null,
      "outputs": []
    },
    {
      "cell_type": "code",
      "source": [
        "def is_leap_year(year):\n",
        "    if year % 4 == 0 and (year % 100 != 0 or year % 400 == 0):\n",
        "        return True\n",
        "    else:\n",
        "        return False\n",
        "\n",
        "years = [2000, 2004, 2008, 2012, 2016, 2020, 2024, 2100, 2200, 2300, 2400]\n",
        "for year in years:\n",
        "    if is_leap_year(year):\n",
        "        print(year,\"is a leap year.\")\n",
        "    else:\n",
        "        print(year, \"is not a leap year.\")\n"
      ],
      "metadata": {
        "id": "8sxMUPs6tzsr"
      },
      "execution_count": null,
      "outputs": []
    },
    {
      "cell_type": "code",
      "source": [
        "def student_data(student_id, student_name=None, student_class=None):\n",
        "    print(f\"Student ID: {student_id}\")\n",
        "    if student_name:\n",
        "        print(f\"Student Name: {student_name}\")\n",
        "    if student_class:\n",
        "        print(f\"Student Class: {student_class}\")\n",
        "student_data(12345)\n",
        "student_data(12345, student_name=\"John Doe\")\n",
        "student_data(12345, student_name=\"John Doe\", student_class=\"Math\")\n"
      ],
      "metadata": {
        "id": "ot8S5QhDuZlw"
      },
      "execution_count": null,
      "outputs": []
    },
    {
      "cell_type": "code",
      "source": [
        "#61\n",
        "class Student:\n",
        "    def __init__(self, student_name, student_class):\n",
        "        self.student_name = student_name\n",
        "        self.student_class = student_class\n",
        "        \n",
        "    def display_student(self):\n",
        "        print(\"Student Name:\", self.student_name)\n",
        "        print(\"Student Class:\", self.student_class)\n",
        "        \n",
        "s = Student(\"John Doe\", \"Grade 10\")\n",
        "s.display_student()\n"
      ],
      "metadata": {
        "id": "FvshHKWxzZrf"
      },
      "execution_count": null,
      "outputs": []
    },
    {
      "cell_type": "code",
      "source": [
        "with open('input.txt', 'w') as file:\n",
        "    # Write some text to the file\n",
        "    file.write('Hello, this is file 1!')"
      ],
      "metadata": {
        "id": "Fve3QVKqz-IM"
      },
      "execution_count": null,
      "outputs": []
    },
    {
      "cell_type": "code",
      "source": [
        "#62\n",
        "with open('input.txt', 'r') as input_file:\n",
        "    contents = input_file.read()\n",
        "with open('output.txt', 'w') as output_file:\n",
        "    output_file.write(contents)\n",
        "print(\"File copied successfully!\")\n"
      ],
      "metadata": {
        "id": "LIKv4dOszmOa"
      },
      "execution_count": null,
      "outputs": []
    },
    {
      "cell_type": "code",
      "source": [
        "#63\n",
        "import random\n",
        "\n",
        "with open('output.txt', 'r') as file:\n",
        "    lines = file.readlines()\n",
        "line_number = random.randint(0, len(lines)-1)\n",
        "print(\"Random line from the file:\")\n",
        "print(lines[line_number])\n"
      ],
      "metadata": {
        "id": "8mTInRFv00KN"
      },
      "execution_count": null,
      "outputs": []
    },
    {
      "cell_type": "code",
      "source": [
        "import string\n",
        "\n",
        "letters = list(string.ascii_lowercase)\n",
        "print(letters)\n"
      ],
      "metadata": {
        "id": "W4_H5Jat2XtE"
      },
      "execution_count": null,
      "outputs": []
    },
    {
      "cell_type": "code",
      "source": [
        "#64\n",
        "\n",
        "letters = ['a', 'b', 'c', 'd', 'e', 'f', 'g', 'h', 'i', 'j', 'k', 'l', 'm', 'n', 'o', 'p', 'q', 'r', 's', 't', 'u', 'v', 'w', 'x', 'y', 'z']\n",
        "\n",
        "for letter in letters:\n",
        "    filename = letter + \".txt\"\n",
        "    with open(filename, \"w\") as file:\n",
        "        file.write(\"This is the file for the letter \" + letter)"
      ],
      "metadata": {
        "id": "xBszGlYf1Uuy"
      },
      "execution_count": null,
      "outputs": []
    },
    {
      "cell_type": "code",
      "source": [
        "!ls -a"
      ],
      "metadata": {
        "id": "T6TpS5q91-JK"
      },
      "execution_count": null,
      "outputs": []
    },
    {
      "cell_type": "code",
      "source": [
        "#65\n",
        "add_15 = lambda x: x + 15\n",
        "print(add_15(10))\n",
        "multiply = lambda x, y: x * y\n",
        "multiply(11,22)"
      ],
      "metadata": {
        "id": "5fk9JZU12A3A"
      },
      "execution_count": null,
      "outputs": []
    },
    {
      "cell_type": "code",
      "source": [
        "#66\n",
        "original_list = [1, 2, 3, 4, 5, 6, 7, 8, 9, 10]\n",
        "\n",
        "filtered_listev = list(filter(lambda x: x % 2 == 0, original_list))\n",
        "print(\"Original list of integers:\", original_list)\n",
        "print(\"Even numbers from the list:\", filtered_listev)\n",
        "filtered_listod = list(filter(lambda x: x % 2 == 1, original_list))\n",
        "print(\"Even numbers from the list:\", filtered_listod)"
      ],
      "metadata": {
        "id": "uh-EdYBB29xh"
      },
      "execution_count": null,
      "outputs": []
    },
    {
      "cell_type": "code",
      "source": [
        "class student:\n",
        "    numl=20\n",
        "    notel=40\n",
        "\n",
        "    def read(self,num):\n",
        "\n",
        "      print(\"reading \", num,\" books\")\n",
        "\n",
        "      print (\"reading \", self.numl,\" books\") \n",
        "    def write (self, note):\n",
        "\n",
        "       print(\"writing \",note,\" notes\") \n",
        "       print(\"reading \", self.notel,\" books\")"
      ],
      "metadata": {
        "id": "2ChfbWpm6QKY"
      },
      "execution_count": null,
      "outputs": []
    },
    {
      "cell_type": "code",
      "source": [],
      "metadata": {
        "id": "sG0UOUViBD8y"
      },
      "execution_count": null,
      "outputs": []
    },
    {
      "cell_type": "code",
      "source": [
        "import numpy"
      ],
      "metadata": {
        "id": "tCb7AyAfA8eV"
      },
      "execution_count": null,
      "outputs": []
    },
    {
      "cell_type": "code",
      "source": [
        "import os\n",
        "os.cpu_count()"
      ],
      "metadata": {
        "id": "7DM9ztrqAo1s"
      },
      "execution_count": null,
      "outputs": []
    },
    {
      "cell_type": "code",
      "source": [
        "obj=student()\n",
        "obj.read(5)\n",
        "obj.write(10)"
      ],
      "metadata": {
        "id": "Ht6CmXnV6zrR"
      },
      "execution_count": null,
      "outputs": []
    }
  ]
}